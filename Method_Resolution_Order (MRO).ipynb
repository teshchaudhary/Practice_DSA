{
 "cells": [
  {
   "cell_type": "code",
   "execution_count": 1,
   "id": "db11243a",
   "metadata": {},
   "outputs": [],
   "source": [
    "class Mother:\n",
    "    def print(self):\n",
    "        return \"This is print of Mother\"\n",
    "    \n",
    "class Father:\n",
    "    def print(self):\n",
    "        return \"This is print of Father\"\n",
    "\n",
    "class Child(Mother,Father):\n",
    "    def __init__(self,name):\n",
    "        self.name=name\n",
    "    \n",
    "    def printName(self):\n",
    "        print(self.name)"
   ]
  },
  {
   "cell_type": "code",
   "execution_count": 3,
   "id": "5a5f0612",
   "metadata": {},
   "outputs": [
    {
     "name": "stdout",
     "output_type": "stream",
     "text": [
      "[<class '__main__.Child'>, <class '__main__.Mother'>, <class '__main__.Father'>, <class 'object'>]\n"
     ]
    }
   ],
   "source": [
    "c1=Child(\"Rohan\")\n",
    "print(Child.mro())"
   ]
  },
  {
   "cell_type": "code",
   "execution_count": 4,
   "id": "887050fc",
   "metadata": {},
   "outputs": [],
   "source": [
    "class Mother:\n",
    "    def __init__(self):\n",
    "        super().__init__()\n",
    "        \n",
    "    def print(self):\n",
    "        return \"This is print of Mother\"\n",
    "    \n",
    "class Father:\n",
    "    def __init__(self):\n",
    "        self.name=\"Ajay\"\n",
    "        \n",
    "    def print(self):\n",
    "        return \"This is print of Father\"\n",
    "\n",
    "class Child(Father,Mother):\n",
    "    def __init__(self):\n",
    "        super().__init__()\n",
    "    \n",
    "    def printName(self):\n",
    "        print(self.name)"
   ]
  },
  {
   "cell_type": "code",
   "execution_count": 5,
   "id": "4a9817f3",
   "metadata": {},
   "outputs": [
    {
     "data": {
      "text/plain": [
       "'This is print of Father'"
      ]
     },
     "execution_count": 5,
     "metadata": {},
     "output_type": "execute_result"
    }
   ],
   "source": [
    "c1=Child()\n",
    "c1.print()"
   ]
  },
  {
   "cell_type": "code",
   "execution_count": null,
   "id": "5524b85b",
   "metadata": {},
   "outputs": [],
   "source": []
  }
 ],
 "metadata": {
  "kernelspec": {
   "display_name": "Python 3 (ipykernel)",
   "language": "python",
   "name": "python3"
  },
  "language_info": {
   "codemirror_mode": {
    "name": "ipython",
    "version": 3
   },
   "file_extension": ".py",
   "mimetype": "text/x-python",
   "name": "python",
   "nbconvert_exporter": "python",
   "pygments_lexer": "ipython3",
   "version": "3.10.4"
  }
 },
 "nbformat": 4,
 "nbformat_minor": 5
}
