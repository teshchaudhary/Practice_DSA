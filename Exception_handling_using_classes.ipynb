{
 "cells": [
  {
   "cell_type": "code",
   "execution_count": 1,
   "id": "d58e33d4",
   "metadata": {},
   "outputs": [
    {
     "name": "stdout",
     "output_type": "stream",
     "text": [
      "5\n",
      "0\n",
      "Denominator should not be zero\n"
     ]
    }
   ],
   "source": [
    "class ZeroDenoError(Exception): #Exception is a predefined class just like object class\n",
    "    pass\n",
    "\n",
    "\n",
    "try:\n",
    "    a=int(input())\n",
    "    b=int(input())\n",
    "    if b==0:\n",
    "        raise(ZeroDenoError)\n",
    "    c=a/b\n",
    "    print(c)\n",
    "    \n",
    "except ZeroDenoError:\n",
    "    print(\"Denominator should not be zero\")"
   ]
  },
  {
   "cell_type": "code",
   "execution_count": 3,
   "id": "7127203d",
   "metadata": {},
   "outputs": [
    {
     "name": "stdout",
     "output_type": "stream",
     "text": [
      "5\n",
      "0\n",
      "ZeroDivisionError\n"
     ]
    }
   ],
   "source": [
    "class ZeroDenoError(ZeroDivisionError): #Exception is a predefined class just like object class\n",
    "    pass\n",
    "\n",
    "try:\n",
    "    a=int(input())\n",
    "    b=int(input())\n",
    "    if b==0:\n",
    "        raise(ZeroDenoError)  # Even if ZeroDenoError is raised but since the parent error is ZeroDivision error so it will be executed instead of ZeroDenoError because ZeroDenoError is atlast a ZeroDivisionError\n",
    "    c=a/b\n",
    "    print(c)\n",
    "\n",
    "except ZeroDivisionError:\n",
    "    print(\"ZeroDivisionError\")\n",
    "    \n",
    "except ZeroDenoError:\n",
    "    print(\"Denominator should not be zero\")"
   ]
  },
  {
   "cell_type": "code",
   "execution_count": 1,
   "id": "2fca022f",
   "metadata": {},
   "outputs": [
    {
     "name": "stdout",
     "output_type": "stream",
     "text": [
      "5\n",
      "0\n",
      "Denominator should not be zero\n"
     ]
    }
   ],
   "source": [
    "class ZeroDenoError(ZeroDivisionError): #Exception is a predefined class just like object class\n",
    "    pass\n",
    "\n",
    "try:\n",
    "    a=int(input())\n",
    "    b=int(input())\n",
    "    if b==0:\n",
    "        raise(ZeroDenoError)  # Now since ZeroDenoError is executed first in except blocks so it will be handled\n",
    "    c=a/b\n",
    "    print(c)\n",
    "\n",
    "except ZeroDenoError:\n",
    "    print(\"Denominator should not be zero\")\n",
    "\n",
    "except ZeroDivisionError:\n",
    "    print(\"ZeroDivisionError\")"
   ]
  },
  {
   "cell_type": "markdown",
   "id": "56eee130",
   "metadata": {},
   "source": [
    "# Else and Finally"
   ]
  },
  {
   "cell_type": "code",
   "execution_count": 5,
   "id": "3ed02763",
   "metadata": {},
   "outputs": [
    {
     "name": "stdout",
     "output_type": "stream",
     "text": [
      "5\n",
      "7\n",
      "0.7142857142857143\n",
      "The Code has been exxecuted\n"
     ]
    }
   ],
   "source": [
    "class ZeroDenoError(ZeroDivisionError): #Exception is a predefined class just like object class\n",
    "    pass\n",
    "\n",
    "try:\n",
    "    a=int(input())\n",
    "    b=int(input())\n",
    "    if b==0:\n",
    "        raise(ZeroDenoError)  # Now since ZeroDenoError is executed first in except blocks so it will be handled\n",
    "    c=a/b\n",
    "\n",
    "except ZeroDenoError:\n",
    "    print(\"Denominator should not be zero\")\n",
    "\n",
    "except ZeroDivisionError:\n",
    "    print(\"ZeroDivisionError\")\n",
    "    \n",
    "else: # This means if we don't get any exception else block will be executed\n",
    "    print(c)\n",
    "\n",
    "finally: # This block will print no matter if there is error or not\n",
    "    print(\"The Code has been exxecuted\")"
   ]
  },
  {
   "cell_type": "code",
   "execution_count": null,
   "id": "46f7880d",
   "metadata": {},
   "outputs": [],
   "source": []
  }
 ],
 "metadata": {
  "kernelspec": {
   "display_name": "Python 3 (ipykernel)",
   "language": "python",
   "name": "python3"
  },
  "language_info": {
   "codemirror_mode": {
    "name": "ipython",
    "version": 3
   },
   "file_extension": ".py",
   "mimetype": "text/x-python",
   "name": "python",
   "nbconvert_exporter": "python",
   "pygments_lexer": "ipython3",
   "version": "3.10.4"
  }
 },
 "nbformat": 4,
 "nbformat_minor": 5
}
